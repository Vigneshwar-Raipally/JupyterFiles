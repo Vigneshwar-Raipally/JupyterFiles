{
 "cells": [
  {
   "cell_type": "markdown",
   "metadata": {},
   "source": [
    "# Building_Automated_File_Sorter"
   ]
  },
  {
   "cell_type": "code",
   "execution_count": 7,
   "metadata": {},
   "outputs": [],
   "source": [
    "import os, shutil\n",
    "path=r\"C:/Users/datta/OneDrive/Desktop/SQL_Port_Query/\"\n",
    "file_name=os.listdir(path)\n",
    "folder_names = ['Python files', 'SQL files', 'Excel files']"
   ]
  },
  {
   "cell_type": "code",
   "execution_count": 8,
   "metadata": {},
   "outputs": [],
   "source": [
    "for i in range(0,3):\n",
    "    if not os.path.exists(path + folder_names[i]):\n",
    "        os.makedirs(path+folder_names[i])\n",
    "for file in file_name:\n",
    "    if \".py\" in file and not os.path.exists(path+\"Python files/\"+file):\n",
    "        shutil.move(path+file, path+\"Python files/\"+file)\n",
    "    elif \".sql\" in file and not os.path.exists(path+\"SQL files/\"+file):\n",
    "        shutil.move(path+file, path+\"SQL files/\"+file)\n",
    "    elif \".xlsx\" in file and not os.path.exists(path+\"Excel files/\"+file):\n",
    "        shutil.move(path+file, path+\"Excel files/\"+file)"
   ]
  }
 ],
 "metadata": {
  "kernelspec": {
   "display_name": "base",
   "language": "python",
   "name": "python3"
  },
  "language_info": {
   "codemirror_mode": {
    "name": "ipython",
    "version": 3
   },
   "file_extension": ".py",
   "mimetype": "text/x-python",
   "name": "python",
   "nbconvert_exporter": "python",
   "pygments_lexer": "ipython3",
   "version": "3.12.4"
  }
 },
 "nbformat": 4,
 "nbformat_minor": 2
}
